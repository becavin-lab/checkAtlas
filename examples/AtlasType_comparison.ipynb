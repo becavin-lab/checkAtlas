{
 "cells": [
  {
   "cell_type": "markdown",
   "id": "3c659d47-90f2-4d6b-ad07-eaa7293d41c3",
   "metadata": {},
   "source": [
    "# CheckAtlas examples : Evaluate and compare different atlases"
   ]
  },
  {
   "cell_type": "markdown",
   "id": "342c16fb-6dd5-4a72-9514-d814aabb2541",
   "metadata": {},
   "source": [
    "In this example, we show how to run checkatlas in a folder containing 3 different data type: Seurat, Scanpy, Cellranger. The three atlas files come from the PBMC 3K sample."
   ]
  },
  {
   "cell_type": "markdown",
   "id": "ace8c60b-ab25-46d8-bce3-192529cbd691",
   "metadata": {},
   "source": [
    "## Download datasets"
   ]
  },
  {
   "cell_type": "markdown",
   "id": "6f3d11cf-7b4f-4db7-aa74-6341547f95a1",
   "metadata": {},
   "source": [
    "The Cellranger file is directly downloaded from 10xGenomics database."
   ]
  },
  {
   "cell_type": "code",
   "execution_count": 7,
   "id": "da87fd50-7868-4db3-bb9c-bb4dc2f295d3",
   "metadata": {},
   "outputs": [
    {
     "name": "stderr",
     "output_type": "stream",
     "text": [
      "mkdir: data3: File exists\n",
      "  % Total    % Received % Xferd  Average Speed   Time    Time     Time  Current\n",
      "                                 Dload  Upload   Total   Spent    Left  Speed\n",
      "100 17.2M  100 17.2M    0     0  2786k      0  0:00:06  0:00:06 --:--:-- 3001k\n"
     ]
    }
   ],
   "source": [
    "%%bash\n",
    "mkdir -p data3\n",
    "mkdir -p data3/pbmc_3k_cellranger\n",
    "mkdir -p data3/pbmc_3k_cellranger/outs\n",
    "cd data3/pbmc_3k_cellranger/outs\n",
    "curl -o filtered_feature_bc_matrix.h5 \"https://cf.10xgenomics.com/samples/cell-exp/3.0.2/5k_pbmc_v3/5k_pbmc_v3_filtered_feature_bc_matrix.h5\""
   ]
  },
  {
   "cell_type": "markdown",
   "id": "3e63d1fd-32f7-4ca2-9e6f-6ed8aad593ee",
   "metadata": {},
   "source": [
    "Scanpy version is downloaded from cellxgene github."
   ]
  },
  {
   "cell_type": "code",
   "execution_count": 8,
   "id": "5cfad5eb-fdd0-46db-ab28-3fd8c3f563ec",
   "metadata": {},
   "outputs": [
    {
     "name": "stderr",
     "output_type": "stream",
     "text": [
      "  % Total    % Received % Xferd  Average Speed   Time    Time     Time  Current\n",
      "                                 Dload  Upload   Total   Spent    Left  Speed\n",
      "  0     0    0     0    0     0      0      0 --:--:-- --:--:-- --:--:--     0\n",
      "100 23.5M  100 23.5M    0     0  2751k      0  0:00:08  0:00:08 --:--:-- 3069k\n"
     ]
    }
   ],
   "source": [
    "%%bash\n",
    "cd data3/\n",
    "curl --location -o pbmc_3k_scanpy.h5ad \"https://github.com/chanzuckerberg/cellxgene/raw/main/example-dataset/pbmc3k.h5ad\""
   ]
  },
  {
   "cell_type": "markdown",
   "id": "99d06915-ba07-4289-86a8-35d0c3e086de",
   "metadata": {},
   "source": [
    "Seurat version is downloaded from Satija's lab dropbox."
   ]
  },
  {
   "cell_type": "code",
   "execution_count": 9,
   "id": "b6330307-967b-465e-86b2-3f4176af762c",
   "metadata": {},
   "outputs": [
    {
     "name": "stderr",
     "output_type": "stream",
     "text": [
      "  % Total    % Received % Xferd  Average Speed   Time    Time     Time  Current\n",
      "                                 Dload  Upload   Total   Spent    Left  Speed\n",
      "100   140    0   140    0     0    296      0 --:--:-- --:--:-- --:--:--   305\n",
      "100   342  100   342    0     0    374      0 --:--:-- --:--:-- --:--:--   374\n",
      "100  274M  100  274M    0     0  3001k      0  0:01:33  0:01:33 --:--:-- 3101k\n"
     ]
    }
   ],
   "source": [
    "%%bash\n",
    "cd data3/\n",
    "curl --location -o pbmc_3k_seurat.rds \"https://www.dropbox.com/s/63gnlw45jf7cje8/pbmc3k_final.rds?dl=1\""
   ]
  },
  {
   "cell_type": "markdown",
   "id": "77ab5788-c7d5-4815-a1e6-395bae5c62a9",
   "metadata": {},
   "source": [
    " "
   ]
  },
  {
   "cell_type": "markdown",
   "id": "c14cc3fb-baf9-41e0-a67d-f9c71a74a83c",
   "metadata": {},
   "source": [
    "## Run checkatlas"
   ]
  },
  {
   "cell_type": "markdown",
   "id": "79160a86-109d-41c3-b471-cda6b64cea97",
   "metadata": {},
   "source": [
    "If checkatlas is installed in your environment, you just need to run this cell. This will produce all metric tables and figures needed."
   ]
  },
  {
   "cell_type": "code",
   "execution_count": 13,
   "id": "c9b0083a-2647-457e-b1f4-5678b9d18474",
   "metadata": {},
   "outputs": [
    {
     "name": "stdout",
     "output_type": "stream",
     "text": [
      "[1] \"data3\"          \"pbmc_3k_seurat\"\n"
     ]
    },
    {
     "name": "stderr",
     "output_type": "stream",
     "text": [
      "Registered S3 method overwritten by 'SeuratDisk':\n",
      "  method            from  \n",
      "  as.sparse.H5Group Seurat\n",
      "Attaching SeuratObject\n"
     ]
    },
    {
     "name": "stdout",
     "output_type": "stream",
     "text": [
      "[1] \"Seurat object is in version: 3\"\n",
      "[1] \"Need to convert Seurat object to more recent one\"\n"
     ]
    },
    {
     "name": "stderr",
     "output_type": "stream",
     "text": [
      "Validating object structure\n",
      "Updating object slots\n",
      "Ensuring keys are in the proper strucutre\n",
      "Ensuring feature names don't have underscores or pipes\n",
      "Updating slots in RNA\n",
      "Updating slots in RNA_nn\n",
      "Setting default assay of RNA_nn to RNA\n",
      "Updating slots in RNA_snn\n",
      "Setting default assay of RNA_snn to RNA\n",
      "Updating slots in pca\n",
      "Updating slots in umap\n",
      "Setting umap DimReduc to global\n",
      "Setting assay used for NormalizeData.RNA to RNA\n",
      "Setting assay used for FindVariableFeatures.RNA to RNA\n",
      "Setting assay used for ScaleData.RNA to RNA\n",
      "Setting assay used for RunPCA.RNA to RNA\n",
      "Setting assay used for JackStraw.RNA.pca to RNA\n",
      "No assay information could be found for ScoreJackStraw\n",
      "Warning: Adding a command log without an assay associated with it\n",
      "Setting assay used for FindNeighbors.RNA.pca to RNA\n",
      "No assay information could be found for FindClusters\n",
      "Warning: Adding a command log without an assay associated with it\n",
      "Setting assay used for RunUMAP.RNA.pca to RNA\n",
      "Object representation is consistent with the most current Seurat version\n"
     ]
    },
    {
     "name": "stdout",
     "output_type": "stream",
     "text": [
      "[1] \"Convert to AnnData\"\n"
     ]
    },
    {
     "name": "stderr",
     "output_type": "stream",
     "text": [
      "Creating h5Seurat file for version 3.1.5.9900\n",
      "Adding counts for RNA\n",
      "Adding data for RNA\n",
      "Adding scale.data for RNA\n",
      "Adding variable features for RNA\n",
      "Adding feature-level metadata for RNA\n",
      "Adding cell embeddings for pca\n",
      "Adding loadings for pca\n",
      "No projected loadings for pca\n",
      "Adding standard deviations for pca\n",
      "Adding JackStraw information for pca\n",
      "Adding cell embeddings for umap\n",
      "No loadings for umap\n",
      "No projected loadings for umap\n",
      "No standard deviations for umap\n",
      "No JackStraw data for umap\n",
      "Validating h5Seurat file\n",
      "Adding scale.data from RNA as X\n",
      "Transfering meta.features to var\n",
      "Adding data from RNA as raw\n",
      "Transfering meta.features to raw/var\n",
      "Transfering meta.data to obs\n",
      "Adding dimensional reduction information for pca\n",
      "Adding feature loadings for pca\n",
      "Adding dimensional reduction information for umap\n",
      "Adding RNA_snn as neighbors\n",
      "Warning message:\n",
      "le package ‘Seurat’ a été compilé avec la version R 4.0.5 \n",
      "/Users/christophebecavin/miniconda3/envs/checkatlas/lib/python3.9/site-packages/anndata/compat/__init__.py:180: FutureWarning: Moving element from .uns['neighbors']['distances'] to .obsp['distances'].\n",
      "\n",
      "This is where adjacency matrices should go now.\n",
      "  warn(\n",
      "WARNING: saving figure to file data3/checkatlas_files/violin/pbmc_3k_seurat_checkatlas_qc.png\n",
      "WARNING: saving figure to file data3/checkatlas_files/umap/pbmc_3k_seurat_checkatlas_umap.png\n",
      "/Users/christophebecavin/miniconda3/envs/checkatlas/lib/python3.9/site-packages/anndata/compat/__init__.py:180: FutureWarning: Moving element from .uns['neighbors']['distances'] to .obsp['distances'].\n",
      "\n",
      "This is where adjacency matrices should go now.\n",
      "  warn(\n",
      "/Users/christophebecavin/miniconda3/envs/checkatlas/lib/python3.9/site-packages/anndata/compat/__init__.py:180: FutureWarning: Moving element from .uns['neighbors']['connectivities'] to .obsp['connectivities'].\n",
      "\n",
      "This is where adjacency matrices should go now.\n",
      "  warn(\n",
      "WARNING: saving figure to file data3/checkatlas_files/violin/pbmc_3k_scanpy_checkatlas_qc.png\n",
      "WARNING: saving figure to file data3/checkatlas_files/umap/pbmc_3k_scanpy_checkatlas_umap.png\n",
      "WARNING: saving figure to file data3/checkatlas_files/tsne/pbmc_3k_scanpy_checkatlas_tsne.png\n",
      "Variable names are not unique. To make them unique, call `.var_names_make_unique`.\n",
      "Variable names are not unique. To make them unique, call `.var_names_make_unique`.\n",
      "/Users/christophebecavin/miniconda3/envs/checkatlas/lib/python3.9/site-packages/anndata/_core/anndata.py:1228: FutureWarning: The `inplace` parameter in pandas.Categorical.reorder_categories is deprecated and will be removed in a future version. Reordering categories will always return a new Categorical object.\n",
      "  c.reorder_categories(natsorted(c.categories), inplace=True)\n",
      "... storing 'feature_types' as categorical\n",
      "/Users/christophebecavin/miniconda3/envs/checkatlas/lib/python3.9/site-packages/anndata/_core/anndata.py:1228: FutureWarning: The `inplace` parameter in pandas.Categorical.reorder_categories is deprecated and will be removed in a future version. Reordering categories will always return a new Categorical object.\n",
      "  c.reorder_categories(natsorted(c.categories), inplace=True)\n",
      "... storing 'genome' as categorical\n",
      "WARNING: saving figure to file data3/checkatlas_files/violin/pbmc_3k_cellranger_checkatlas_qc.png\n"
     ]
    },
    {
     "name": "stdout",
     "output_type": "stream",
     "text": [
      "Checking your single-cell atlases in data3/!\n",
      "Searching Seurat and Scanpy files\n",
      "Found 3\n",
      "Check if checkatlas folders exist\n",
      "pbmc_3k_seurat\n",
      "Convert Seurat object to Scanpy:  data3/pbmc_3k_seurat.rds\n",
      "Rscript /Users/christophebecavin/miniconda3/envs/checkatlas/lib/python3.9/site-packages/checkatlas/convertSeurat.R data3 pbmc_3k_seurat\n",
      "pbmc_3k_scanpy\n",
      "filtered_feature_bc_matrix\n",
      "data3/pbmc_3k_cellranger/outs/filtered_feature_bc_matrix.h5\n",
      "--- Load pbmc_3k_seurat in data3/\n",
      "Clean scanpy:pbmc_3k_seurat\n",
      "Run summary\n",
      "Calc QC\n",
      "1\n",
      "Calc Silhouette for pbmc_3k_seurat seurat_clusters\n",
      "Calc Davies Bouldin for pbmc_3k_seurat seurat_clusters\n",
      "NOT WORKING YET - Calc Rand Index for pbmc_3k_seurat seurat_clusters\n",
      "NOT WORKING YET - Calc Kruskal Stress for pbmc_3k_seurat X_pca\n",
      "NOT WORKING YET - Calc Kruskal Stress for pbmc_3k_seurat X_umap\n",
      "--- Load pbmc_3k_scanpy in data3/\n",
      "Clean scanpy:pbmc_3k_scanpy\n",
      "Run summary\n",
      "Calc QC\n",
      "1\n",
      "Calc Silhouette for pbmc_3k_scanpy louvain\n",
      "Calc Davies Bouldin for pbmc_3k_scanpy louvain\n",
      "NOT WORKING YET - Calc Kruskal Stress for pbmc_3k_scanpy X_pca\n",
      "NOT WORKING YET - Calc Kruskal Stress for pbmc_3k_scanpy X_tsne\n",
      "NOT WORKING YET - Calc Kruskal Stress for pbmc_3k_scanpy X_umap\n",
      "NOT WORKING YET - Calc Kruskal Stress for pbmc_3k_scanpy X_draw_graph_fr\n",
      "--- Load pbmc_3k_cellranger in data3/pbmc_3k_cellranger/\n",
      "data3/pbmc_3k_cellranger/outs/filtered_feature_bc_matrix.h5\n",
      "Clean scanpy:pbmc_3k_cellranger\n",
      "Run summary\n",
      "Calc QC\n",
      "0\n",
      "Run MultiQC\n"
     ]
    }
   ],
   "source": [
    "%%bash\n",
    "python -m checkatlas data3/"
   ]
  },
  {
   "cell_type": "markdown",
   "id": "c9603f30-485c-4184-816f-c0ebe4f6427c",
   "metadata": {},
   "source": [
    "## Run MultiQC"
   ]
  },
  {
   "cell_type": "markdown",
   "id": "b341421f-7a18-4a27-88fa-f46b9b45238f",
   "metadata": {},
   "source": [
    "Once checkatlas has been run, all tables and fig cazn be found in the checkatlas_files folder. MultiQC will retrieve these files and create the html summary files.\n",
    "WARNING: Install and run only MultiQC from https://github.com/becavin-lab/MultiQC/tree/checkatlas. Otherwise checkatlas files will not be taken into account."
   ]
  },
  {
   "cell_type": "code",
   "execution_count": 16,
   "id": "3fe19198-0625-44a7-9d2c-586077901b08",
   "metadata": {},
   "outputs": [
    {
     "name": "stderr",
     "output_type": "stream",
     "text": [
      "\n",
      "  CheckAtlas-version/// MultiQC 🔍 | v1.13.dev0\n",
      "\n",
      "|           multiqc | Search path : /Users/christophebecavin/Documents/checkatlas/examples/data3\n",
      "|         searching | ━━━━━━━━━━━━━━━━━━━━━━━━━━━━━━━━━━━━━━━━ 100% 22/22  \n",
      "|        checkatlas | Found 3 reports\n",
      "|           multiqc | Compressing plot data\n",
      "|           multiqc | Deleting    : CheckAtlas_example_3/CheckAtlas_example_3.html   (-f was specified)\n",
      "|           multiqc | Deleting    : CheckAtlas_example_3/CheckAtlas_example_3_data   (-f was specified)\n",
      "|           multiqc | Report      : CheckAtlas_example_3/CheckAtlas_example_3.html\n",
      "|           multiqc | Data        : CheckAtlas_example_3/CheckAtlas_example_3_data\n",
      "|           multiqc | MultiQC complete\n"
     ]
    }
   ],
   "source": [
    "%%bash\n",
    "multiqc -f --cl-config \"ignore_images: false\" -c multiqc_config.yaml -n \"CheckAtlas_example_3\" -o \"CheckAtlas_example_3\" data3/"
   ]
  },
  {
   "cell_type": "markdown",
   "id": "325f02e1-55cb-4804-a4bb-3bc179fb52c6",
   "metadata": {},
   "source": [
    "If multiqc ran without error an html report has been created in CheckAtlas_example1/CheckAtlas_example1.html<br>\n",
    "<big>Open it and check your atlases ! </big>"
   ]
  },
  {
   "cell_type": "code",
   "execution_count": 17,
   "id": "01616e7d-0463-4cbd-a5be-e68240640d5a",
   "metadata": {},
   "outputs": [
    {
     "data": {
      "text/html": [
       "\n",
       "        <iframe\n",
       "            width=\"100%\"\n",
       "            height=\"500px\"\n",
       "            src=\"CheckAtlas_example_3/CheckAtlas_example_3.html\"\n",
       "            frameborder=\"0\"\n",
       "            allowfullscreen\n",
       "            \n",
       "        ></iframe>\n",
       "        "
      ],
      "text/plain": [
       "<IPython.lib.display.IFrame at 0x10cfc7c10>"
      ]
     },
     "execution_count": 17,
     "metadata": {},
     "output_type": "execute_result"
    }
   ],
   "source": [
    "from IPython.display import IFrame\n",
    "IFrame(src=\"CheckAtlas_example_3/CheckAtlas_example_3.html\", width='100%', height='500px')"
   ]
  }
 ],
 "metadata": {
  "kernelspec": {
   "display_name": "Python 3 (ipykernel)",
   "language": "python",
   "name": "python3"
  },
  "language_info": {
   "codemirror_mode": {
    "name": "ipython",
    "version": 3
   },
   "file_extension": ".py",
   "mimetype": "text/x-python",
   "name": "python",
   "nbconvert_exporter": "python",
   "pygments_lexer": "ipython3",
   "version": "3.9.10"
  }
 },
 "nbformat": 4,
 "nbformat_minor": 5
}
