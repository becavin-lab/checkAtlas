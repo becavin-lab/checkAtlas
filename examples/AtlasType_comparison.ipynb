{
 "cells": [
  {
   "cell_type": "markdown",
   "id": "3c659d47-90f2-4d6b-ad07-eaa7293d41c3",
   "metadata": {},
   "source": [
    "# CheckAtlas examples : Evaluate and compare different atlases"
   ]
  },
  {
   "cell_type": "markdown",
   "id": "342c16fb-6dd5-4a72-9514-d814aabb2541",
   "metadata": {},
   "source": [
    "In this example, we show how to run checkatlas in a folder containing 3 different data type: Seurat, Scanpy, Cellranger. The three atlas files come from the PBMC 3K sample."
   ]
  },
  {
   "cell_type": "markdown",
   "id": "ace8c60b-ab25-46d8-bce3-192529cbd691",
   "metadata": {},
   "source": [
    "## Download datasets"
   ]
  },
  {
   "cell_type": "markdown",
   "id": "6f3d11cf-7b4f-4db7-aa74-6341547f95a1",
   "metadata": {},
   "source": [
    "The Cellranger file is directly downloaded from 10xGenomics database."
   ]
  },
  {
   "cell_type": "code",
   "execution_count": 7,
   "id": "da87fd50-7868-4db3-bb9c-bb4dc2f295d3",
   "metadata": {},
   "outputs": [
    {
     "name": "stderr",
     "output_type": "stream",
     "text": [
      "mkdir: data3: File exists\n",
      "  % Total    % Received % Xferd  Average Speed   Time    Time     Time  Current\n",
      "                                 Dload  Upload   Total   Spent    Left  Speed\n",
      "100 17.2M  100 17.2M    0     0  2786k      0  0:00:06  0:00:06 --:--:-- 3001k\n"
     ]
    }
   ],
   "source": [
    "%%bash\n",
    "mkdir -p data3\n",
    "mkdir -p data3/pbmc_3k_cellranger\n",
    "mkdir -p data3/pbmc_3k_cellranger/outs\n",
    "cd data3/pbmc_3k_cellranger/outs\n",
    "curl -o filtered_feature_bc_matrix.h5 \"https://cf.10xgenomics.com/samples/cell-exp/3.0.2/5k_pbmc_v3/5k_pbmc_v3_filtered_feature_bc_matrix.h5\""
   ]
  },
  {
   "cell_type": "markdown",
   "id": "3e63d1fd-32f7-4ca2-9e6f-6ed8aad593ee",
   "metadata": {},
   "source": [
    "Scanpy version is downloaded from cellxgene github."
   ]
  },
  {
   "cell_type": "code",
   "execution_count": 8,
   "id": "5cfad5eb-fdd0-46db-ab28-3fd8c3f563ec",
   "metadata": {},
   "outputs": [
    {
     "name": "stderr",
     "output_type": "stream",
     "text": [
      "  % Total    % Received % Xferd  Average Speed   Time    Time     Time  Current\n",
      "                                 Dload  Upload   Total   Spent    Left  Speed\n",
      "  0     0    0     0    0     0      0      0 --:--:-- --:--:-- --:--:--     0\n",
      "100 23.5M  100 23.5M    0     0  2751k      0  0:00:08  0:00:08 --:--:-- 3069k\n"
     ]
    }
   ],
   "source": [
    "%%bash\n",
    "cd data3/\n",
    "curl --location -o pbmc_3k_scanpy.h5ad \"https://github.com/chanzuckerberg/cellxgene/raw/main/example-dataset/pbmc3k.h5ad\""
   ]
  },
  {
   "cell_type": "markdown",
   "id": "99d06915-ba07-4289-86a8-35d0c3e086de",
   "metadata": {},
   "source": [
    "Seurat version is downloaded from Satija's lab dropbox."
   ]
  },
  {
   "cell_type": "code",
   "execution_count": 9,
   "id": "b6330307-967b-465e-86b2-3f4176af762c",
   "metadata": {},
   "outputs": [
    {
     "name": "stderr",
     "output_type": "stream",
     "text": [
      "  % Total    % Received % Xferd  Average Speed   Time    Time     Time  Current\n",
      "                                 Dload  Upload   Total   Spent    Left  Speed\n",
      "100   140    0   140    0     0    296      0 --:--:-- --:--:-- --:--:--   305\n",
      "100   342  100   342    0     0    374      0 --:--:-- --:--:-- --:--:--   374\n",
      "100  274M  100  274M    0     0  3001k      0  0:01:33  0:01:33 --:--:-- 3101k\n"
     ]
    }
   ],
   "source": [
    "%%bash\n",
    "cd data3/\n",
    "curl --location -o pbmc_3k_seurat.rds \"https://www.dropbox.com/s/63gnlw45jf7cje8/pbmc3k_final.rds?dl=1\""
   ]
  },
  {
   "cell_type": "markdown",
   "id": "77ab5788-c7d5-4815-a1e6-395bae5c62a9",
   "metadata": {},
   "source": [
    " "
   ]
  },
  {
   "cell_type": "markdown",
   "id": "c14cc3fb-baf9-41e0-a67d-f9c71a74a83c",
   "metadata": {},
   "source": [
    "## Run checkatlas"
   ]
  },
  {
   "cell_type": "markdown",
   "id": "79160a86-109d-41c3-b471-cda6b64cea97",
   "metadata": {},
   "source": [
    "If checkatlas is installed in your environment, you just need to run this cell. This will produce all metric tables and figures needed."
   ]
  },
  {
   "cell_type": "code",
   "execution_count": 13,
   "id": "c9b0083a-2647-457e-b1f4-5678b9d18474",
   "metadata": {},
   "outputs": [
    {
     "name": "stderr",
     "output_type": "stream",
     "text": [
      "|--- DEBUG    Program arguments: Namespace(path='data3/', config='', multiqc='CheckAtlas_MultiQC', resume=False, thread=1, debug=True, NOADATA=False, NOQC=False, NOREDUCTION=False, NOMETRIC=False, NOMULTIQC=True, qc_display=['violin_plot', 'total_counts', 'n_genes_by_counts', 'pct_counts_mt'], obs_cluster=['cell_type', 'CellType', 'celltype', 'ann_finest_level', 'cellranger_graphclust', 'seurat_clusters', 'louvain', 'leiden', 'orig.ident'], metric_cluster=['silhouette', 'davies_bouldin'], metric_annot=['rand_index'], metric_dimred=['kruskal_stress'])\n",
      "|--- DEBUG    Check checkatlas folders in:data3/\n",
      "|--- INFO     Searching Seurat, Cellranger and Scanpy files\n",
      "|--- DEBUG    Include Atlas: pbmc_3k_seurat from data3/pbmc_3k_seurat.rds\n",
      "|--- DEBUG    Include Atlas: pbmc_3k_scanpy from data3/pbmc_3k_scanpy.h5ad\n",
      "|--- DEBUG    Include Atlas: pbmc_3k_cellranger from data3/pbmc_3k_cellranger/outs/filtered_feature_bc_matrix.h5\n",
      "|--- INFO     Found 1 potential scanpy files with .h5ad extension\n",
      "|--- INFO     Found 1 potential seurat files with .rds extension\n",
      "|--- INFO     Found 1 cellranger file with .h5 extension\n",
      "|--- DEBUG    List of functions which will be ran for each atlas: [<function create_summary_table at 0x1686804c0>, <function create_anndata_table at 0x168680550>, <function create_qc_plots at 0x168680670>, <function create_qc_tables at 0x1686805e0>, <function create_umap_fig at 0x168680700>, <function create_tsne_fig at 0x168680790>, <function metric_cluster at 0x168680820>, <function metric_annot at 0x1686808b0>, <function metric_dimred at 0x168680940>]\n",
      "|--- DEBUG    Search data3/checkatlas_files/summary/pbmc_3k_scanpy_checkatlas_summ.tsv\n",
      "|--- INFO     Load pbmc_3k_scanpy in data3/\n",
      "|--- DEBUG    Read Scanpy file data3/pbmc_3k_scanpy.h5ad\n",
      "/Users/christophebecavin/miniconda3/envs/checkatlas/lib/python3.9/site-packages/anndata/compat/__init__.py:180: FutureWarning: Moving element from .uns['neighbors']['distances'] to .obsp['distances'].\n",
      "\n",
      "This is where adjacency matrices should go now.\n",
      "  warn(\n",
      "/Users/christophebecavin/miniconda3/envs/checkatlas/lib/python3.9/site-packages/anndata/compat/__init__.py:180: FutureWarning: Moving element from .uns['neighbors']['connectivities'] to .obsp['connectivities'].\n",
      "\n",
      "This is where adjacency matrices should go now.\n",
      "  warn(\n",
      "|--- DEBUG    Clean scanpy: pbmc_3k_scanpy\n",
      "|--- INFO     Run checkatlas pipeline for pbmc_3k_scanpy Scanpy atlas\n",
      "|--- DEBUG    Create Summary table for pbmc_3k_scanpy\n",
      "|--- DEBUG    Create Adata table for pbmc_3k_scanpy\n",
      "|--- DEBUG    Create QC violin plot for pbmc_3k_scanpy\n",
      "WARNING: You are using a low resolution (dpi<150) for saving figures.\n",
      "Consider running `set_figure_params(dpi_save=...)`, which will adjust `matplotlib.rcParams['savefig.dpi']`\n",
      "WARNING: saving figure to file data3/checkatlas_files/violin/pbmc_3k_scanpy_checkatlas_qc.png\n",
      "|--- DEBUG    Create QC tables for pbmc_3k_scanpy\n",
      "|--- DEBUG    Create UMAP figure for pbmc_3k_scanpy\n",
      "|--- DEBUG    Add obs_key louvain with cat Index(['CD4 T cells', 'CD14+ Monocytes', 'B cells', 'CD8 T cells', 'NK cells',\n",
      "       'FCGR3A+ Monocytes', 'Dendritic cells', 'Megakaryocytes'],\n",
      "      dtype='object')\n",
      "WARNING: saving figure to file data3/checkatlas_files/umap/pbmc_3k_scanpy_checkatlas_umap.png\n",
      "|--- DEBUG    Create t-SNE figure for pbmc_3k_scanpy\n",
      "|--- DEBUG    Add obs_key louvain with cat Index(['CD4 T cells', 'CD14+ Monocytes', 'B cells', 'CD8 T cells', 'NK cells',\n",
      "       'FCGR3A+ Monocytes', 'Dendritic cells', 'Megakaryocytes'],\n",
      "      dtype='object')\n",
      "WARNING: saving figure to file data3/checkatlas_files/tsne/pbmc_3k_scanpy_checkatlas_tsne.png\n",
      "|--- DEBUG    Add obs_key louvain with cat Index(['CD4 T cells', 'CD14+ Monocytes', 'B cells', 'CD8 T cells', 'NK cells',\n",
      "       'FCGR3A+ Monocytes', 'Dendritic cells', 'Megakaryocytes'],\n",
      "      dtype='object')\n",
      "|--- DEBUG    Calc clustering metrics for pbmc_3k_scanpy\n",
      "|--- DEBUG    Calc silhouette for pbmc_3k_scanpy with obs louvain and obsm X_umap\n",
      "|--- DEBUG    Calc davies_bouldin for pbmc_3k_scanpy with obs louvain and obsm X_umap\n",
      "|--- DEBUG    Add obs_key louvain with cat Index(['CD4 T cells', 'CD14+ Monocytes', 'B cells', 'CD8 T cells', 'NK cells',\n",
      "       'FCGR3A+ Monocytes', 'Dendritic cells', 'Megakaryocytes'],\n",
      "      dtype='object')\n",
      "|--- DEBUG    Calc annotation metrics for pbmc_3k_scanpy\n",
      "|--- DEBUG    Add obsm ['X_pca', 'X_tsne', 'X_umap', 'X_draw_graph_fr']\n",
      "|--- DEBUG    Calc dim red metrics for pbmc_3k_scanpy\n",
      "|--- DEBUG    Calc kruskal_stress for pbmc_3k_scanpy with obsm X_pca\n",
      "|--- DEBUG    Calc kruskal_stress for pbmc_3k_scanpy with obsm X_tsne\n",
      "|--- DEBUG    Calc kruskal_stress for pbmc_3k_scanpy with obsm X_umap\n",
      "|--- DEBUG    Calc kruskal_stress for pbmc_3k_scanpy with obsm X_draw_graph_fr\n",
      "|--- DEBUG    Search data3/checkatlas_files/summary/pbmc_3k_cellranger_checkatlas_summ.tsv\n",
      "|--- INFO     Load pbmc_3k_cellranger in data3/\n",
      "|--- DEBUG    Read Cellranger results data3/pbmc_3k_cellranger/outs/filtered_feature_bc_matrix.h5\n",
      "Variable names are not unique. To make them unique, call `.var_names_make_unique`.\n",
      "Variable names are not unique. To make them unique, call `.var_names_make_unique`.\n",
      "|--- DEBUG    Clean scanpy: pbmc_3k_cellranger\n",
      "|--- INFO     Run checkatlas pipeline for pbmc_3k_cellranger Scanpy atlas\n",
      "|--- DEBUG    Create Summary table for pbmc_3k_cellranger\n",
      "|--- DEBUG    Create Adata table for pbmc_3k_cellranger\n",
      "|--- DEBUG    Create QC violin plot for pbmc_3k_cellranger\n",
      "/Users/christophebecavin/miniconda3/envs/checkatlas/lib/python3.9/site-packages/anndata/_core/anndata.py:1228: FutureWarning: The `inplace` parameter in pandas.Categorical.reorder_categories is deprecated and will be removed in a future version. Reordering categories will always return a new Categorical object.\n",
      "  c.reorder_categories(natsorted(c.categories), inplace=True)\n",
      "... storing 'feature_types' as categorical\n",
      "/Users/christophebecavin/miniconda3/envs/checkatlas/lib/python3.9/site-packages/anndata/_core/anndata.py:1228: FutureWarning: The `inplace` parameter in pandas.Categorical.reorder_categories is deprecated and will be removed in a future version. Reordering categories will always return a new Categorical object.\n",
      "  c.reorder_categories(natsorted(c.categories), inplace=True)\n",
      "... storing 'genome' as categorical\n",
      "WARNING: saving figure to file data3/checkatlas_files/violin/pbmc_3k_cellranger_checkatlas_qc.png\n",
      "|--- DEBUG    Create QC tables for pbmc_3k_cellranger\n",
      "|--- DEBUG    No viable obs_key was found for pbmc_3k_cellranger\n",
      "|--- DEBUG    No viable obs_key was found for pbmc_3k_cellranger\n",
      "|--- DEBUG    Add obsm []\n",
      "|--- DEBUG    No viable obsm_key was found for pbmc_3k_cellranger\n",
      "|--- DEBUG    List of functions which will be ran for each Seurat atlas: [<function create_summary_table at 0x16867b820>, <function create_anndata_table at 0x16867b8b0>, <function create_qc_plots at 0x16867b9d0>, <function create_qc_tables at 0x16867b940>, <function create_umap_fig at 0x16867ba60>, <function create_tsne_fig at 0x16867baf0>, <function metric_cluster at 0x16867bb80>, <function metric_annot at 0x16867bc10>, <function metric_dimred at 0x16867bca0>]\n",
      "|--- DEBUG    Search data3/checkatlas_files/summary/pbmc_3k_seurat_checkatlas_summ.tsv\n"
     ]
    },
    {
     "name": "stdout",
     "output_type": "stream",
     "text": [
      "\n",
      "    WARNING: The R package \"reticulate\" only fixed recently\n",
      "    an issue that caused a segfault when used with rpy2:\n",
      "    https://github.com/rstudio/reticulate/pull/1188\n",
      "    Make sure that you use a version of that package that includes\n",
      "    the fix.\n"
     ]
    },
    {
     "name": "stderr",
     "output_type": "stream",
     "text": [
      "|--- INFO     Load pbmc_3k_seurat in data3/\n",
      "|--- INFO     Run checkatlas pipeline for pbmc_3k_seurat Seurat atlas\n",
      "|--- DEBUG    Create Summary table for pbmc_3k_seurat\n",
      "|--- DEBUG    Create Adata table for pbmc_3k_seurat\n",
      "|--- DEBUG    Create QC violin plot for pbmc_3k_seurat\n",
      "|--- DEBUG    Create QC tables for pbmc_3k_seurat\n",
      "|--- DEBUG    Create UMAP figure for pbmc_3k_seurat\n",
      "|--- DEBUG    Add obs_key seurat_clusters with cat [1] \"0\" \"1\" \"2\" \"3\" \"4\" \"5\" \"6\" \"7\" \"8\"\n",
      "\n",
      "|--- DEBUG    Add obs_key seurat_clusters with cat [1] \"0\" \"1\" \"2\" \"3\" \"4\" \"5\" \"6\" \"7\" \"8\"\n",
      "\n",
      "|--- DEBUG    Calc clustering metrics for pbmc_3k_seurat\n",
      "|--- DEBUG    Calc silhouette for pbmc_3k_seurat with obs seurat_clusters and obsm umap\n",
      "|--- DEBUG    Calc davies_bouldin for pbmc_3k_seurat with obs seurat_clusters and obsm umap\n",
      "|--- DEBUG    Add obs_key seurat_clusters with cat [1] \"0\" \"1\" \"2\" \"3\" \"4\" \"5\" \"6\" \"7\" \"8\"\n",
      "\n",
      "|--- DEBUG    Calc annotation metrics for pbmc_3k_seurat\n",
      "|--- DEBUG    Add obsm [1] \"pca\"  \"umap\"\n",
      "\n",
      "|--- DEBUG    Calc dim red metrics for pbmc_3k_seurat\n",
      "|--- DEBUG    Calc kruskal_stress for pbmc_3k_seurat with obsm pca\n",
      "|--- WARNING  !!! Dim reduction metrics not available for Seuratat the moment !!!\n",
      "|--- DEBUG    Calc kruskal_stress for pbmc_3k_seurat with obsm umap\n",
      "|--- WARNING  !!! Dim reduction metrics not available for Seuratat the moment !!!\n",
      "|--- WARNING  R[write to console]: Message d'avis :\n",
      "\n",
      "|--- WARNING  R[write to console]: Dans FetchData(object = object, vars = features, slot = slot) :\n",
      "|--- WARNING  R[write to console]: \n",
      " \n",
      "|--- WARNING  R[write to console]:  The following requested variables were not found: percent.mito, percent.ribo\n",
      "\n"
     ]
    },
    {
     "name": "stdout",
     "output_type": "stream",
     "text": [
      "    "
     ]
    }
   ],
   "source": [
    "%%bash\n",
    "python -m checkatlas --debug --NOMULTIQC data3/"
   ]
  },
  {
   "cell_type": "markdown",
   "id": "c9603f30-485c-4184-816f-c0ebe4f6427c",
   "metadata": {},
   "source": [
    "## Run MultiQC"
   ]
  },
  {
   "cell_type": "markdown",
   "id": "b341421f-7a18-4a27-88fa-f46b9b45238f",
   "metadata": {},
   "source": [
    "Once checkatlas has been run, all tables and fig cazn be found in the checkatlas_files folder. MultiQC will retrieve these files and create the html summary files.\n",
    "WARNING: Install and run only MultiQC from https://github.com/becavin-lab/MultiQC/tree/checkatlas. Otherwise checkatlas files will not be taken into account."
   ]
  },
  {
   "cell_type": "code",
   "execution_count": 14,
   "id": "3fe19198-0625-44a7-9d2c-586077901b08",
   "metadata": {},
   "outputs": [
    {
     "name": "stderr",
     "output_type": "stream",
     "text": [
      "\n",
      "  /// MultiQC 🔍 | v1.13.dev0\n",
      "\n",
      "|           multiqc | Search path : /Users/christophebecavin/Documents/checkatlas/examples/data3\n",
      "|         searching | ━━━━━━━━━━━━━━━━━━━━━━━━━━━━━━━━━━━━━━━━ 100% 24/24  \n",
      "|        checkatlas | Found 3 summary tables\n",
      "|        checkatlas | Found 3 adata tables\n",
      "|        checkatlas | Found 3 QC violin plots\n",
      "|        checkatlas | Found 3 QC counts tables\n",
      "|        checkatlas | Found 3 QC genes tables\n",
      "|        checkatlas | Found 3 QC mito tables\n",
      "|        checkatlas | Found 2 UMAP figures\n",
      "|        checkatlas | Found 1 t-SNE figures\n",
      "|        checkatlas | Found 2 metric cluster tables\n",
      "|           multiqc | Compressing plot data\n",
      "|           multiqc | Deleting    : CheckAtlas_example_3/CheckAtlas_example_3.html   (-f was specified)\n",
      "|           multiqc | Deleting    : CheckAtlas_example_3/CheckAtlas_example_3_data   (-f was specified)\n",
      "|           multiqc | Report      : CheckAtlas_example_3/CheckAtlas_example_3.html\n",
      "|           multiqc | Data        : CheckAtlas_example_3/CheckAtlas_example_3_data\n",
      "|           multiqc | MultiQC complete\n"
     ]
    }
   ],
   "source": [
    "%%bash\n",
    "multiqc -f --cl-config \"ignore_images: false\" -c multiqc_config.yaml -n \"CheckAtlas_example_3\" -o \"CheckAtlas_example_3\" data3/"
   ]
  },
  {
   "cell_type": "markdown",
   "id": "325f02e1-55cb-4804-a4bb-3bc179fb52c6",
   "metadata": {},
   "source": [
    "If multiqc ran without error an html report has been created in CheckAtlas_example1/CheckAtlas_example1.html<br>\n",
    "<big>Open it and check your atlases ! </big>"
   ]
  },
  {
   "cell_type": "code",
   "execution_count": 15,
   "id": "01616e7d-0463-4cbd-a5be-e68240640d5a",
   "metadata": {},
   "outputs": [
    {
     "data": {
      "text/html": [
       "\n",
       "        <iframe\n",
       "            width=\"100%\"\n",
       "            height=\"500px\"\n",
       "            src=\"CheckAtlas_example_3/CheckAtlas_example_3.html\"\n",
       "            frameborder=\"0\"\n",
       "            allowfullscreen\n",
       "            \n",
       "        ></iframe>\n",
       "        "
      ],
      "text/plain": [
       "<IPython.lib.display.IFrame at 0x10b466670>"
      ]
     },
     "execution_count": 15,
     "metadata": {},
     "output_type": "execute_result"
    }
   ],
   "source": [
    "from IPython.display import IFrame\n",
    "\n",
    "IFrame(\n",
    "    src=\"CheckAtlas_example_3/CheckAtlas_example_3.html\",\n",
    "    width=\"100%\",\n",
    "    height=\"500px\",\n",
    ")"
   ]
  }
 ],
 "metadata": {
  "kernelspec": {
   "display_name": "Python 3 (ipykernel)",
   "language": "python",
   "name": "python3"
  },
  "language_info": {
   "codemirror_mode": {
    "name": "ipython",
    "version": 3
   },
   "file_extension": ".py",
   "mimetype": "text/x-python",
   "name": "python",
   "nbconvert_exporter": "python",
   "pygments_lexer": "ipython3",
   "version": "3.9.10"
  }
 },
 "nbformat": 4,
 "nbformat_minor": 5
}
