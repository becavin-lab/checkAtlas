{
 "cells": [
  {
   "cell_type": "markdown",
   "id": "3c659d47-90f2-4d6b-ad07-eaa7293d41c3",
   "metadata": {},
   "source": [
    "# CheckAtlas examples : Evaluate and compare different atlases"
   ]
  },
  {
   "cell_type": "markdown",
   "id": "342c16fb-6dd5-4a72-9514-d814aabb2541",
   "metadata": {},
   "source": [
    "In this example, we show how to run checkatlas in a folder containing 3 different data type: Seurat, Scanpy, Cellranger. The three atlas files come from the PBMC 3K sample."
   ]
  },
  {
   "cell_type": "markdown",
   "id": "ace8c60b-ab25-46d8-bce3-192529cbd691",
   "metadata": {},
   "source": [
    "## Download datasets"
   ]
  },
  {
   "cell_type": "markdown",
   "id": "6f3d11cf-7b4f-4db7-aa74-6341547f95a1",
   "metadata": {},
   "source": [
    "The Cellranger file is directly downloaded from 10xGenomics database."
   ]
  },
  {
   "cell_type": "code",
   "execution_count": 4,
   "id": "da87fd50-7868-4db3-bb9c-bb4dc2f295d3",
   "metadata": {},
   "outputs": [
    {
     "name": "stderr",
     "output_type": "stream",
     "text": [
      "mkdir: data3: File exists\n",
      "mkdir: data3/pbmc_3k: File exists\n",
      "mkdir: data3/pbmc_3k/outs: File exists\n",
      "  % Total    % Received % Xferd  Average Speed   Time    Time     Time  Current\n",
      "                                 Dload  Upload   Total   Spent    Left  Speed\n",
      "100 17.2M  100 17.2M    0     0  29.2M      0 --:--:-- --:--:-- --:--:-- 29.8M\n"
     ]
    }
   ],
   "source": [
    "%%bash\n",
    "mkdir data3\n",
    "mkdir data3/pbmc_3k\n",
    "mkdir data3/pbmc_3k/outs\n",
    "\n",
    "cd data3/pbmc_3k/outs\n",
    "\n",
    "curl -o filtered_feature_bc_matrix.h5 \"https://cf.10xgenomics.com/samples/cell-exp/3.0.2/5k_pbmc_v3/5k_pbmc_v3_filtered_feature_bc_matrix.h5\""
   ]
  },
  {
   "cell_type": "markdown",
   "id": "3e63d1fd-32f7-4ca2-9e6f-6ed8aad593ee",
   "metadata": {},
   "source": [
    "Scanpy version is downloaded from cellxgene github."
   ]
  },
  {
   "cell_type": "code",
   "execution_count": 14,
   "id": "5cfad5eb-fdd0-46db-ab28-3fd8c3f563ec",
   "metadata": {},
   "outputs": [
    {
     "name": "stderr",
     "output_type": "stream",
     "text": [
      "  % Total    % Received % Xferd  Average Speed   Time    Time     Time  Current\n",
      "                                 Dload  Upload   Total   Spent    Left  Speed\n",
      "  0     0    0     0    0     0      0      0 --:--:-- --:--:-- --:--:--     0\n",
      "100 23.5M  100 23.5M    0     0  28.9M      0 --:--:-- --:--:-- --:--:-- 28.9M\n"
     ]
    }
   ],
   "source": [
    "%%bash\n",
    "cd data3/\n",
    "curl --location -o pbmc_3k_scanpy.h5ad \"https://github.com/chanzuckerberg/cellxgene/raw/main/example-dataset/pbmc3k.h5ad\"\n",
    "\n"
   ]
  },
  {
   "cell_type": "markdown",
   "id": "99d06915-ba07-4289-86a8-35d0c3e086de",
   "metadata": {},
   "source": [
    "Seurat version is downloaded from "
   ]
  },
  {
   "cell_type": "code",
   "execution_count": 15,
   "id": "b6330307-967b-465e-86b2-3f4176af762c",
   "metadata": {},
   "outputs": [
    {
     "name": "stderr",
     "output_type": "stream",
     "text": [
      "  % Total    % Received % Xferd  Average Speed   Time    Time     Time  Current\n",
      "                                 Dload  Upload   Total   Spent    Left  Speed\n",
      "100   140    0   140    0     0    350      0 --:--:-- --:--:-- --:--:--   362\n",
      "100   342  100   342    0     0    426      0 --:--:-- --:--:-- --:--:--     0\n",
      "100  274M  100  274M    0     0  24.8M      0  0:00:11  0:00:11 --:--:-- 29.6M\n"
     ]
    }
   ],
   "source": [
    "%%bash\n",
    "cd data3/\n",
    "curl --location -o pbmc_3k_seurat.rds \"https://www.dropbox.com/s/63gnlw45jf7cje8/pbmc3k_final.rds?dl=1\""
   ]
  },
  {
   "cell_type": "markdown",
   "id": "77ab5788-c7d5-4815-a1e6-395bae5c62a9",
   "metadata": {},
   "source": [
    " "
   ]
  },
  {
   "cell_type": "markdown",
   "id": "c14cc3fb-baf9-41e0-a67d-f9c71a74a83c",
   "metadata": {},
   "source": [
    "## Run checkatlas"
   ]
  },
  {
   "cell_type": "markdown",
   "id": "79160a86-109d-41c3-b471-cda6b64cea97",
   "metadata": {},
   "source": [
    "If checkatlas is installed in your environment, you just need to run this cell. This will produce all metric tables and figures needed."
   ]
  },
  {
   "cell_type": "code",
   "execution_count": 17,
   "id": "c9b0083a-2647-457e-b1f4-5678b9d18474",
   "metadata": {},
   "outputs": [
    {
     "name": "stdout",
     "output_type": "stream",
     "text": [
      "Fatal error: impossible d'ouvrir le fichier 'checkatlas/convertSeurat.R' : No such file or directory\n"
     ]
    },
    {
     "name": "stderr",
     "output_type": "stream",
     "text": [
      "/Users/christophebecavin/miniconda3/envs/checkatlas/lib/python3.9/site-packages/anndata/compat/__init__.py:180: FutureWarning: Moving element from .uns['neighbors']['distances'] to .obsp['distances'].\n",
      "\n",
      "This is where adjacency matrices should go now.\n",
      "  warn(\n",
      "/Users/christophebecavin/miniconda3/envs/checkatlas/lib/python3.9/site-packages/anndata/compat/__init__.py:180: FutureWarning: Moving element from .uns['neighbors']['connectivities'] to .obsp['connectivities'].\n",
      "\n",
      "This is where adjacency matrices should go now.\n",
      "  warn(\n",
      "WARNING: saving figure to file data3/checkatlas_files/violin/pbmc_3k_scanpy_checkatlas_qc.png\n",
      "Traceback (most recent call last):\n",
      "  File \"/Users/christophebecavin/miniconda3/envs/checkatlas/lib/python3.9/runpy.py\", line 197, in _run_module_as_main\n",
      "    return _run_code(code, main_globals, None,\n",
      "  File \"/Users/christophebecavin/miniconda3/envs/checkatlas/lib/python3.9/runpy.py\", line 87, in _run_code\n",
      "    exec(code, run_globals)\n",
      "  File \"/Users/christophebecavin/miniconda3/envs/checkatlas/lib/python3.9/site-packages/checkatlas/__main__.py\", line 55, in <module>\n",
      "    main()\n",
      "  File \"/Users/christophebecavin/miniconda3/envs/checkatlas/lib/python3.9/site-packages/checkatlas/__main__.py\", line 51, in main\n",
      "    checkatlas.run(args.path, atlas_list, multithread, n_cpus)\n",
      "  File \"/Users/christophebecavin/miniconda3/envs/checkatlas/lib/python3.9/site-packages/checkatlas/checkatlas.py\", line 412, in run\n",
      "    atlas.create_umap_fig(adata, atlas_path, atlas_info, path)\n",
      "  File \"/Users/christophebecavin/miniconda3/envs/checkatlas/lib/python3.9/site-packages/checkatlas/atlas.py\", line 221, in create_umap_fig\n",
      "    if OBS_CLUSTERS[i] in adata.obs_keys():\n",
      "IndexError: list index out of range\n"
     ]
    },
    {
     "name": "stdout",
     "output_type": "stream",
     "text": [
      "Checking your single-cell atlases in data3/!\n",
      "Searching Seurat and Scanpy files\n",
      "Found 3\n",
      "Check if checkatlas folders exist\n",
      "pbmc_3k_seurat\n",
      "Convert Seurat object to Scanpy:  data3/pbmc_3k_seurat.rds\n",
      "Rscript checkatlas/convertSeurat.R data3 pbmc_3k_seurat\n",
      "pbmc_3k_scanpy\n",
      "Clean scanpy:data3/pbmc_3k_scanpy.h5ad\n",
      "filtered_feature_bc_matrix\n",
      "data3/pbmc_3k/outs/filtered_feature_bc_matrix.h5\n",
      "--- Load pbmc_3k_scanpy in data3/\n",
      "Run summary\n",
      "Calc QC\n"
     ]
    },
    {
     "ename": "CalledProcessError",
     "evalue": "Command 'b'python -m checkatlas data3/\\n'' returned non-zero exit status 1.",
     "output_type": "error",
     "traceback": [
      "\u001b[0;31m---------------------------------------------------------------------------\u001b[0m",
      "\u001b[0;31mCalledProcessError\u001b[0m                        Traceback (most recent call last)",
      "Input \u001b[0;32mIn [17]\u001b[0m, in \u001b[0;36m<cell line: 1>\u001b[0;34m()\u001b[0m\n\u001b[0;32m----> 1\u001b[0m \u001b[43mget_ipython\u001b[49m\u001b[43m(\u001b[49m\u001b[43m)\u001b[49m\u001b[38;5;241;43m.\u001b[39;49m\u001b[43mrun_cell_magic\u001b[49m\u001b[43m(\u001b[49m\u001b[38;5;124;43m'\u001b[39;49m\u001b[38;5;124;43mbash\u001b[39;49m\u001b[38;5;124;43m'\u001b[39;49m\u001b[43m,\u001b[49m\u001b[43m \u001b[49m\u001b[38;5;124;43m'\u001b[39;49m\u001b[38;5;124;43m'\u001b[39;49m\u001b[43m,\u001b[49m\u001b[43m \u001b[49m\u001b[38;5;124;43m'\u001b[39;49m\u001b[38;5;124;43mpython -m checkatlas data3/\u001b[39;49m\u001b[38;5;130;43;01m\\n\u001b[39;49;00m\u001b[38;5;124;43m'\u001b[39;49m\u001b[43m)\u001b[49m\n",
      "File \u001b[0;32m~/miniconda3/envs/checkatlas/lib/python3.9/site-packages/IPython/core/interactiveshell.py:2347\u001b[0m, in \u001b[0;36mInteractiveShell.run_cell_magic\u001b[0;34m(self, magic_name, line, cell)\u001b[0m\n\u001b[1;32m   2345\u001b[0m \u001b[38;5;28;01mwith\u001b[39;00m \u001b[38;5;28mself\u001b[39m\u001b[38;5;241m.\u001b[39mbuiltin_trap:\n\u001b[1;32m   2346\u001b[0m     args \u001b[38;5;241m=\u001b[39m (magic_arg_s, cell)\n\u001b[0;32m-> 2347\u001b[0m     result \u001b[38;5;241m=\u001b[39m \u001b[43mfn\u001b[49m\u001b[43m(\u001b[49m\u001b[38;5;241;43m*\u001b[39;49m\u001b[43margs\u001b[49m\u001b[43m,\u001b[49m\u001b[43m \u001b[49m\u001b[38;5;241;43m*\u001b[39;49m\u001b[38;5;241;43m*\u001b[39;49m\u001b[43mkwargs\u001b[49m\u001b[43m)\u001b[49m\n\u001b[1;32m   2348\u001b[0m \u001b[38;5;28;01mreturn\u001b[39;00m result\n",
      "File \u001b[0;32m~/miniconda3/envs/checkatlas/lib/python3.9/site-packages/IPython/core/magics/script.py:153\u001b[0m, in \u001b[0;36mScriptMagics._make_script_magic.<locals>.named_script_magic\u001b[0;34m(line, cell)\u001b[0m\n\u001b[1;32m    151\u001b[0m \u001b[38;5;28;01melse\u001b[39;00m:\n\u001b[1;32m    152\u001b[0m     line \u001b[38;5;241m=\u001b[39m script\n\u001b[0;32m--> 153\u001b[0m \u001b[38;5;28;01mreturn\u001b[39;00m \u001b[38;5;28;43mself\u001b[39;49m\u001b[38;5;241;43m.\u001b[39;49m\u001b[43mshebang\u001b[49m\u001b[43m(\u001b[49m\u001b[43mline\u001b[49m\u001b[43m,\u001b[49m\u001b[43m \u001b[49m\u001b[43mcell\u001b[49m\u001b[43m)\u001b[49m\n",
      "File \u001b[0;32m~/miniconda3/envs/checkatlas/lib/python3.9/site-packages/IPython/core/magics/script.py:305\u001b[0m, in \u001b[0;36mScriptMagics.shebang\u001b[0;34m(self, line, cell)\u001b[0m\n\u001b[1;32m    300\u001b[0m \u001b[38;5;28;01mif\u001b[39;00m args\u001b[38;5;241m.\u001b[39mraise_error \u001b[38;5;129;01mand\u001b[39;00m p\u001b[38;5;241m.\u001b[39mreturncode \u001b[38;5;241m!=\u001b[39m \u001b[38;5;241m0\u001b[39m:\n\u001b[1;32m    301\u001b[0m     \u001b[38;5;66;03m# If we get here and p.returncode is still None, we must have\u001b[39;00m\n\u001b[1;32m    302\u001b[0m     \u001b[38;5;66;03m# killed it but not yet seen its return code. We don't wait for it,\u001b[39;00m\n\u001b[1;32m    303\u001b[0m     \u001b[38;5;66;03m# in case it's stuck in uninterruptible sleep. -9 = SIGKILL\u001b[39;00m\n\u001b[1;32m    304\u001b[0m     rc \u001b[38;5;241m=\u001b[39m p\u001b[38;5;241m.\u001b[39mreturncode \u001b[38;5;129;01mor\u001b[39;00m \u001b[38;5;241m-\u001b[39m\u001b[38;5;241m9\u001b[39m\n\u001b[0;32m--> 305\u001b[0m     \u001b[38;5;28;01mraise\u001b[39;00m CalledProcessError(rc, cell)\n",
      "\u001b[0;31mCalledProcessError\u001b[0m: Command 'b'python -m checkatlas data3/\\n'' returned non-zero exit status 1."
     ]
    }
   ],
   "source": [
    "%%bash\n",
    "python -m checkatlas data3/\n",
    "#### DO NOT WORK BECAUSE CANNOT FIND R script"
   ]
  },
  {
   "cell_type": "markdown",
   "id": "c9603f30-485c-4184-816f-c0ebe4f6427c",
   "metadata": {},
   "source": [
    "## Run MultiQC"
   ]
  },
  {
   "cell_type": "markdown",
   "id": "b341421f-7a18-4a27-88fa-f46b9b45238f",
   "metadata": {},
   "source": [
    "Once checkatlas has been run, all tables and fig cazn be found in the checkatlas_files folder. MultiQC will retrieve these files and create the html summary files.\n",
    "WARNING: Install and run only MultiQC from https://github.com/becavin-lab/MultiQC/tree/checkatlas. Otherwise checkatlas files will not be taken into account."
   ]
  },
  {
   "cell_type": "code",
   "execution_count": null,
   "id": "3fe19198-0625-44a7-9d2c-586077901b08",
   "metadata": {},
   "outputs": [],
   "source": [
    "%%bash\n",
    "multiqc -f --cl-config \"ignore_images: false\" -c multiqc_config.yaml -n \"CheckAtlas_example_1\" -o \"CheckAtlas_example_1\" data1/"
   ]
  },
  {
   "cell_type": "markdown",
   "id": "325f02e1-55cb-4804-a4bb-3bc179fb52c6",
   "metadata": {},
   "source": [
    "If multiqc ran without error an html report has been created in CheckAtlas_example1/CheckAtlas_example1.html<br>\n",
    "<big>Open it and check your atlases ! </big>"
   ]
  },
  {
   "cell_type": "code",
   "execution_count": null,
   "id": "01616e7d-0463-4cbd-a5be-e68240640d5a",
   "metadata": {},
   "outputs": [],
   "source": [
    "from IPython.display import IFrame\n",
    "IFrame(src=\"CheckAtlas_example_1/CheckAtlas_example_1.html\", width='100%', height='500px')"
   ]
  }
 ],
 "metadata": {
  "kernelspec": {
   "display_name": "Python 3 (ipykernel)",
   "language": "python",
   "name": "python3"
  },
  "language_info": {
   "codemirror_mode": {
    "name": "ipython",
    "version": 3
   },
   "file_extension": ".py",
   "mimetype": "text/x-python",
   "name": "python",
   "nbconvert_exporter": "python",
   "pygments_lexer": "ipython3",
   "version": "3.9.10"
  }
 },
 "nbformat": 4,
 "nbformat_minor": 5
}
