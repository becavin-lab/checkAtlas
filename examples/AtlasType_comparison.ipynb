{
 "cells": [
  {
   "cell_type": "markdown",
   "id": "3c659d47-90f2-4d6b-ad07-eaa7293d41c3",
   "metadata": {},
   "source": [
    "# CheckAtlas examples : Evaluate and compare different atlases"
   ]
  },
  {
   "cell_type": "markdown",
   "id": "342c16fb-6dd5-4a72-9514-d814aabb2541",
   "metadata": {},
   "source": [
    "In this example, we show how to run checkatlas in a folder containing 3 different data type: Seurat, Scanpy, Cellranger. The three atlas files come from the PBMC 3K sample."
   ]
  },
  {
   "cell_type": "markdown",
   "id": "ace8c60b-ab25-46d8-bce3-192529cbd691",
   "metadata": {},
   "source": [
    "## Download datasets"
   ]
  },
  {
   "cell_type": "markdown",
   "id": "6f3d11cf-7b4f-4db7-aa74-6341547f95a1",
   "metadata": {},
   "source": [
    "The Cellranger file is directly downloaded from 10xGenomics database."
   ]
  },
  {
   "cell_type": "code",
   "execution_count": 1,
   "id": "81f6a984-764c-4079-89fb-e411ecc8add2",
   "metadata": {
    "tags": []
   },
   "outputs": [
    {
     "name": "stdout",
     "output_type": "stream",
     "text": [
      "/data/analysis/data_becavin/checkatlas_test/tuto\n"
     ]
    }
   ],
   "source": [
    "cd /data/analysis/data_becavin/checkatlas_test/tuto"
   ]
  },
  {
   "cell_type": "code",
   "execution_count": 4,
   "id": "da87fd50-7868-4db3-bb9c-bb4dc2f295d3",
   "metadata": {},
   "outputs": [
    {
     "name": "stderr",
     "output_type": "stream",
     "text": [
      "  % Total    % Received % Xferd  Average Speed   Time    Time     Time  Current\n",
      "                                 Dload  Upload   Total   Spent    Left  Speed\n",
      "100 17.2M  100 17.2M    0     0  12.1M      0  0:00:01  0:00:01 --:--:-- 12.1M\n"
     ]
    }
   ],
   "source": [
    "%%bash\n",
    "mkdir -p data3\n",
    "mkdir -p data3/pbmc_3k_cellranger\n",
    "mkdir -p data3/pbmc_3k_cellranger/outs\n",
    "cd data3/pbmc_3k_cellranger/outs\n",
    "curl -o filtered_feature_bc_matrix.h5 \"https://cf.10xgenomics.com/samples/cell-exp/3.0.2/5k_pbmc_v3/5k_pbmc_v3_filtered_feature_bc_matrix.h5\""
   ]
  },
  {
   "cell_type": "markdown",
   "id": "3e63d1fd-32f7-4ca2-9e6f-6ed8aad593ee",
   "metadata": {},
   "source": [
    "Scanpy version is downloaded from cellxgene github."
   ]
  },
  {
   "cell_type": "code",
   "execution_count": 5,
   "id": "5cfad5eb-fdd0-46db-ab28-3fd8c3f563ec",
   "metadata": {},
   "outputs": [
    {
     "name": "stderr",
     "output_type": "stream",
     "text": [
      "  % Total    % Received % Xferd  Average Speed   Time    Time     Time  Current\n",
      "                                 Dload  Upload   Total   Spent    Left  Speed\n",
      "  0     0    0     0    0     0      0      0 --:--:-- --:--:-- --:--:--     0\n",
      "100 23.5M  100 23.5M    0     0  13.9M      0  0:00:01  0:00:01 --:--:-- 84.5M\n"
     ]
    }
   ],
   "source": [
    "%%bash\n",
    "cd data3/\n",
    "curl --location -o pbmc_3k_scanpy.h5ad \"https://github.com/chanzuckerberg/cellxgene/raw/main/example-dataset/pbmc3k.h5ad\""
   ]
  },
  {
   "cell_type": "markdown",
   "id": "99d06915-ba07-4289-86a8-35d0c3e086de",
   "metadata": {},
   "source": [
    "Seurat version is downloaded from Satija's lab dropbox."
   ]
  },
  {
   "cell_type": "code",
   "execution_count": 6,
   "id": "b6330307-967b-465e-86b2-3f4176af762c",
   "metadata": {},
   "outputs": [
    {
     "name": "stderr",
     "output_type": "stream",
     "text": [
      "  % Total    % Received % Xferd  Average Speed   Time    Time     Time  Current\n",
      "                                 Dload  Upload   Total   Spent    Left  Speed\n",
      "100   123    0   123    0     0    375      0 --:--:-- --:--:-- --:--:--   375\n",
      "100   342  100   342    0     0    361      0 --:--:-- --:--:-- --:--:--     0\n",
      "100  274M  100  274M    0     0  17.2M      0  0:00:15  0:00:15 --:--:-- 17.6M\n"
     ]
    }
   ],
   "source": [
    "%%bash\n",
    "cd data3/\n",
    "curl --location -o pbmc_3k_seurat.rds \"https://www.dropbox.com/s/63gnlw45jf7cje8/pbmc3k_final.rds?dl=1\""
   ]
  },
  {
   "cell_type": "markdown",
   "id": "77ab5788-c7d5-4815-a1e6-395bae5c62a9",
   "metadata": {},
   "source": [
    " "
   ]
  },
  {
   "cell_type": "markdown",
   "id": "c14cc3fb-baf9-41e0-a67d-f9c71a74a83c",
   "metadata": {},
   "source": [
    "## Run checkatlas"
   ]
  },
  {
   "cell_type": "markdown",
   "id": "79160a86-109d-41c3-b471-cda6b64cea97",
   "metadata": {},
   "source": [
    "If checkatlas is installed in your environment, you just need to run this cell. This will produce all metric tables and figures needed."
   ]
  },
  {
   "cell_type": "code",
   "execution_count": 3,
   "id": "c9b0083a-2647-457e-b1f4-5678b9d18474",
   "metadata": {},
   "outputs": [
    {
     "name": "stderr",
     "output_type": "stream",
     "text": [
      "|--- DEBUG    Program arguments: Namespace(path='data3/', config='', multiqc='CheckAtlas_MultiQC', resume=False, thread=1, debug=True, NOADATA=False, NOQC=False, NOREDUCTION=False, NOMETRIC=False, NOMULTIQC=True, qc_display=['violin_plot', 'total_counts', 'n_genes_by_counts', 'pct_counts_mt'], obs_cluster=['cell_type', 'CellType', 'celltype', 'ann_finest_level', 'cellranger_graphclust', 'seurat_clusters', 'louvain', 'leiden', 'orig.ident'], metric_cluster=['silhouette', 'davies_bouldin'], metric_annot=['rand_index'], metric_dimred=['kruskal_stress'])\n",
      "|--- DEBUG    Check checkatlas folders in:data3/\n",
      "|--- INFO     Searching Seurat, Cellranger and Scanpy files\n",
      "|--- DEBUG    Include Atlas: pbmc_3k_seurat from data3/pbmc_3k_seurat.rds\n",
      "|--- DEBUG    Include Atlas: pbmc_3k_scanpy from data3/pbmc_3k_scanpy.h5ad\n",
      "|--- DEBUG    Include Atlas: pbmc_3k_cellranger from data3/pbmc_3k_cellranger/outs/filtered_feature_bc_matrix.h5\n",
      "|--- INFO     Found 1 potential scanpy files with .h5ad extension\n",
      "|--- INFO     Found 1 potential seurat files with .rds extension\n",
      "|--- INFO     Found 1 cellranger file with .h5 extension\n",
      "|--- DEBUG    List of functions which will be ran for each atlas: [<function create_summary_table at 0x7f2b95bfa0e0>, <function create_anndata_table at 0x7f2b95bfa170>, <function create_qc_plots at 0x7f2b95bfa290>, <function create_qc_tables at 0x7f2b95bfa200>, <function create_umap_fig at 0x7f2b95bfa320>, <function create_tsne_fig at 0x7f2b95bfa3b0>, <function metric_cluster at 0x7f2b95bfa440>, <function metric_annot at 0x7f2b95bfa4d0>, <function metric_dimred at 0x7f2b95bfa560>]\n",
      "|--- DEBUG    Search data3/checkatlas_files/summary/pbmc_3k_scanpy_checkatlas_summ.tsv\n",
      "|--- INFO     Load pbmc_3k_scanpy in data3/\n",
      "|--- DEBUG    Read Scanpy file data3/pbmc_3k_scanpy.h5ad\n",
      "/home/becavin/.conda/envs/cb_checkatlas/lib/python3.10/site-packages/anndata/compat/__init__.py:232: FutureWarning: Moving element from .uns['neighbors']['distances'] to .obsp['distances'].\n",
      "\n",
      "This is where adjacency matrices should go now.\n",
      "  warn(\n",
      "/home/becavin/.conda/envs/cb_checkatlas/lib/python3.10/site-packages/anndata/compat/__init__.py:232: FutureWarning: Moving element from .uns['neighbors']['connectivities'] to .obsp['connectivities'].\n",
      "\n",
      "This is where adjacency matrices should go now.\n",
      "  warn(\n",
      "|--- DEBUG    Clean scanpy: pbmc_3k_scanpy\n",
      "|--- INFO     Run checkatlas pipeline for pbmc_3k_scanpy Scanpy atlas\n",
      "|--- DEBUG    Create Summary table for pbmc_3k_scanpy\n",
      "|--- DEBUG    Create Adata table for pbmc_3k_scanpy\n",
      "|--- DEBUG    Create QC violin plot for pbmc_3k_scanpy\n",
      "WARNING: You are using a low resolution (dpi<150) for saving figures.\n",
      "Consider running `set_figure_params(dpi_save=...)`, which will adjust `matplotlib.rcParams['savefig.dpi']`\n",
      "WARNING: saving figure to file data3/checkatlas_files/violin/pbmc_3k_scanpy_checkatlas_qc.png\n",
      "|--- DEBUG    Create QC tables for pbmc_3k_scanpy\n",
      "|--- DEBUG    Create UMAP figure for pbmc_3k_scanpy\n",
      "|--- DEBUG    Add obs_key louvain with cat Index(['CD4 T cells', 'CD14+ Monocytes', 'B cells', 'CD8 T cells', 'NK cells',\n",
      "       'FCGR3A+ Monocytes', 'Dendritic cells', 'Megakaryocytes'],\n",
      "      dtype='object')\n",
      "/home/becavin/.conda/envs/cb_checkatlas/lib/python3.10/site-packages/scanpy/plotting/_tools/scatterplots.py:392: UserWarning: No data for colormapping provided via 'c'. Parameters 'cmap' will be ignored\n",
      "  cax = scatter(\n",
      "WARNING: saving figure to file data3/checkatlas_files/umap/pbmc_3k_scanpy_checkatlas_umap.png\n",
      "|--- DEBUG    Create t-SNE figure for pbmc_3k_scanpy\n",
      "|--- DEBUG    Add obs_key louvain with cat Index(['CD4 T cells', 'CD14+ Monocytes', 'B cells', 'CD8 T cells', 'NK cells',\n",
      "       'FCGR3A+ Monocytes', 'Dendritic cells', 'Megakaryocytes'],\n",
      "      dtype='object')\n",
      "/home/becavin/.conda/envs/cb_checkatlas/lib/python3.10/site-packages/scanpy/plotting/_tools/scatterplots.py:392: UserWarning: No data for colormapping provided via 'c'. Parameters 'cmap' will be ignored\n",
      "  cax = scatter(\n",
      "WARNING: saving figure to file data3/checkatlas_files/tsne/pbmc_3k_scanpy_checkatlas_tsne.png\n",
      "|--- DEBUG    Add obs_key louvain with cat Index(['CD4 T cells', 'CD14+ Monocytes', 'B cells', 'CD8 T cells', 'NK cells',\n",
      "       'FCGR3A+ Monocytes', 'Dendritic cells', 'Megakaryocytes'],\n",
      "      dtype='object')\n",
      "|--- DEBUG    Calc clustering metrics for pbmc_3k_scanpy\n",
      "|--- DEBUG    Calc silhouette for pbmc_3k_scanpy with obs louvain and obsm X_umap\n",
      "|--- DEBUG    Calc davies_bouldin for pbmc_3k_scanpy with obs louvain and obsm X_umap\n",
      "|--- DEBUG    Add obs_key louvain with cat Index(['CD4 T cells', 'CD14+ Monocytes', 'B cells', 'CD8 T cells', 'NK cells',\n",
      "       'FCGR3A+ Monocytes', 'Dendritic cells', 'Megakaryocytes'],\n",
      "      dtype='object')\n",
      "|--- DEBUG    Calc annotation metrics for pbmc_3k_scanpy\n",
      "|--- DEBUG    Add obsm ['X_pca', 'X_tsne', 'X_umap', 'X_draw_graph_fr']\n",
      "|--- DEBUG    Calc dim red metrics for pbmc_3k_scanpy\n",
      "|--- DEBUG    Calc kruskal_stress for pbmc_3k_scanpy with obsm X_pca\n",
      "|--- DEBUG    Calc kruskal_stress for pbmc_3k_scanpy with obsm X_tsne\n",
      "|--- DEBUG    Calc kruskal_stress for pbmc_3k_scanpy with obsm X_umap\n",
      "|--- DEBUG    Calc kruskal_stress for pbmc_3k_scanpy with obsm X_draw_graph_fr\n",
      "|--- DEBUG    Search data3/checkatlas_files/summary/pbmc_3k_cellranger_checkatlas_summ.tsv\n",
      "|--- INFO     Load pbmc_3k_cellranger in data3/\n",
      "|--- DEBUG    Read Cellranger results data3/pbmc_3k_cellranger/outs/filtered_feature_bc_matrix.h5\n",
      "/home/becavin/.conda/envs/cb_checkatlas/lib/python3.10/site-packages/anndata/_core/anndata.py:1830: UserWarning: Variable names are not unique. To make them unique, call `.var_names_make_unique`.\n",
      "  utils.warn_names_duplicates(\"var\")\n",
      "|--- DEBUG    Clean scanpy: pbmc_3k_cellranger\n",
      "|--- INFO     Run checkatlas pipeline for pbmc_3k_cellranger Scanpy atlas\n",
      "|--- DEBUG    Create Summary table for pbmc_3k_cellranger\n",
      "|--- DEBUG    Create Adata table for pbmc_3k_cellranger\n",
      "|--- DEBUG    Create QC violin plot for pbmc_3k_cellranger\n",
      "WARNING: saving figure to file data3/checkatlas_files/violin/pbmc_3k_cellranger_checkatlas_qc.png\n",
      "|--- DEBUG    Create QC tables for pbmc_3k_cellranger\n",
      "|--- DEBUG    No viable obs_key was found for pbmc_3k_cellranger\n",
      "|--- DEBUG    No viable obs_key was found for pbmc_3k_cellranger\n",
      "|--- DEBUG    Add obsm []\n",
      "|--- DEBUG    No viable obsm_key was found for pbmc_3k_cellranger\n",
      "|--- DEBUG    List of functions which will be ran for each Seurat atlas: [<function create_summary_table at 0x7f2b95bf93f0>, <function create_anndata_table at 0x7f2b95bf9480>, <function create_qc_plots at 0x7f2b95bf95a0>, <function create_qc_tables at 0x7f2b95bf9510>, <function create_umap_fig at 0x7f2b95bf9630>, <function create_tsne_fig at 0x7f2b95bf96c0>, <function metric_cluster at 0x7f2b95bf9750>, <function metric_annot at 0x7f2b95bf97e0>, <function metric_dimred at 0x7f2b95bf9870>]\n",
      "|--- DEBUG    Search data3/checkatlas_files/summary/pbmc_3k_seurat_checkatlas_summ.tsv\n"
     ]
    },
    {
     "name": "stdout",
     "output_type": "stream",
     "text": [
      "\n",
      "    WARNING: The R package \"reticulate\" only fixed recently\n",
      "    an issue that caused a segfault when used with rpy2:\n",
      "    https://github.com/rstudio/reticulate/pull/1188\n",
      "    Make sure that you use a version of that package that includes\n",
      "    the fix.\n"
     ]
    },
    {
     "name": "stderr",
     "output_type": "stream",
     "text": [
      "|--- INFO     Load pbmc_3k_seurat in data3/\n",
      "|--- INFO     Run checkatlas pipeline for pbmc_3k_seurat Seurat atlas\n",
      "|--- DEBUG    Create Summary table for pbmc_3k_seurat\n",
      "|--- DEBUG    Create Adata table for pbmc_3k_seurat\n",
      "|--- DEBUG    Create QC violin plot for pbmc_3k_seurat\n",
      "|--- DEBUG    Create QC tables for pbmc_3k_seurat\n",
      "|--- DEBUG    Create UMAP figure for pbmc_3k_seurat\n",
      "|--- DEBUG    Add obs_key seurat_clusters with cat [1] \"0\" \"1\" \"2\" \"3\" \"4\" \"5\" \"6\" \"7\" \"8\"\n",
      "\n",
      "|--- DEBUG    Add obs_key seurat_clusters with cat [1] \"0\" \"1\" \"2\" \"3\" \"4\" \"5\" \"6\" \"7\" \"8\"\n",
      "\n",
      "|--- DEBUG    Calc clustering metrics for pbmc_3k_seurat\n",
      "|--- DEBUG    Calc silhouette for pbmc_3k_seurat with obs seurat_clusters and obsm umap\n",
      "|--- DEBUG    Calc davies_bouldin for pbmc_3k_seurat with obs seurat_clusters and obsm umap\n",
      "|--- DEBUG    Add obs_key seurat_clusters with cat [1] \"0\" \"1\" \"2\" \"3\" \"4\" \"5\" \"6\" \"7\" \"8\"\n",
      "\n",
      "|--- DEBUG    Calc annotation metrics for pbmc_3k_seurat\n",
      "|--- DEBUG    Add obsm [1] \"pca\"  \"umap\"\n",
      "\n",
      "|--- DEBUG    Calc dim red metrics for pbmc_3k_seurat\n",
      "|--- DEBUG    Calc kruskal_stress for pbmc_3k_seurat with obsm pca\n",
      "|--- WARNING  !!! Dim reduction metrics not available for Seurat at the moment !!!\n",
      "|--- DEBUG    Calc kruskal_stress for pbmc_3k_seurat with obsm umap\n",
      "|--- WARNING  !!! Dim reduction metrics not available for Seurat at the moment !!!\n",
      "|--- WARNING  R[write to console]: Il y a eu 11 avis (utilisez warnings() pour les visionner)\n",
      "|--- WARNING  R[write to console]: \n",
      "\n"
     ]
    },
    {
     "name": "stdout",
     "output_type": "stream",
     "text": [
      "    "
     ]
    }
   ],
   "source": [
    "%%bash\n",
    "python -m checkatlas --debug --NOMULTIQC data3/"
   ]
  },
  {
   "cell_type": "markdown",
   "id": "c9603f30-485c-4184-816f-c0ebe4f6427c",
   "metadata": {},
   "source": [
    "## Run MultiQC"
   ]
  },
  {
   "cell_type": "markdown",
   "id": "b341421f-7a18-4a27-88fa-f46b9b45238f",
   "metadata": {},
   "source": [
    "Once checkatlas has been run, all tables and fig cazn be found in the checkatlas_files folder. MultiQC will retrieve these files and create the html summary files.\n",
    "WARNING: Install and run only MultiQC from https://github.com/becavin-lab/MultiQC/tree/checkatlas. Otherwise checkatlas files will not be taken into account."
   ]
  },
  {
   "cell_type": "code",
   "execution_count": 5,
   "id": "3fe19198-0625-44a7-9d2c-586077901b08",
   "metadata": {},
   "outputs": [
    {
     "name": "stderr",
     "output_type": "stream",
     "text": [
      "\n",
      "  \u001b[34m/\u001b[0m\u001b[32m/\u001b[0m\u001b[31m/\u001b[0m \u001b]8;id=273237;https://multiqc.info\u001b\\\u001b[1mMultiQC\u001b[0m\u001b]8;;\u001b\\ 🔍 \u001b[2m| v1.15.dev0\u001b[0m\n",
      "\n",
      "\u001b[34m|           multiqc\u001b[0m | Search path : /data/analysis/data_becavin/checkatlas_test/tuto/data3\n",
      "\u001b[2K\u001b[34m|\u001b[0m         \u001b[34msearching\u001b[0m | \u001b[90m━━━━━━━━━━━━━━━━━━━━━━━━━━━━━━━━━━━━━━━━\u001b[0m \u001b[35m100%\u001b[0m \u001b[32m21/21\u001b[0m  21\u001b[0m  \n",
      "\u001b[?25h\u001b[34m|        checkatlas\u001b[0m | Found 3 summary tables\n",
      "\u001b[34m|        checkatlas\u001b[0m | Found 3 adata tables\n",
      "\u001b[34m|        checkatlas\u001b[0m | Found 3 QC violin plots\n",
      "\u001b[34m|        checkatlas\u001b[0m | Found 3 QC counts tables\n",
      "\u001b[34m|        checkatlas\u001b[0m | Found 3 QC genes tables\n",
      "\u001b[34m|        checkatlas\u001b[0m | Found 3 QC mito tables\n",
      "\u001b[34m|        checkatlas\u001b[0m | Found 1 UMAP figures\n",
      "\u001b[34m|        checkatlas\u001b[0m | Found 1 t-SNE figures\n",
      "\u001b[34m|        checkatlas\u001b[0m | Found 2 metric cluster tables\n",
      "\u001b[34m|           multiqc\u001b[0m | Compressing plot data\n",
      "\u001b[34m|           multiqc\u001b[0m | \u001b[33mDeleting    : CheckAtlas_example_3/CheckAtlas_example_3.html   (-f was specified)\u001b[0m\n",
      "\u001b[34m|           multiqc\u001b[0m | \u001b[33mDeleting    : CheckAtlas_example_3/CheckAtlas_example_3_data   (-f was specified)\u001b[0m\n",
      "\u001b[34m|           multiqc\u001b[0m | Report      : CheckAtlas_example_3/CheckAtlas_example_3.html\n",
      "\u001b[34m|           multiqc\u001b[0m | Data        : CheckAtlas_example_3/CheckAtlas_example_3_data\n",
      "\u001b[34m|           multiqc\u001b[0m | MultiQC complete\n"
     ]
    }
   ],
   "source": [
    "%%bash\n",
    "multiqc -f --cl-config \"ignore_images: false\" -n \"CheckAtlas_example_3\" -o \"CheckAtlas_example_3\" data3/"
   ]
  },
  {
   "cell_type": "markdown",
   "id": "325f02e1-55cb-4804-a4bb-3bc179fb52c6",
   "metadata": {},
   "source": [
    "If multiqc ran without error an html report has been created in CheckAtlas_example1/CheckAtlas_example1.html<br>\n",
    "<big>Open it and check your atlases ! </big>"
   ]
  },
  {
   "cell_type": "code",
   "execution_count": 15,
   "id": "01616e7d-0463-4cbd-a5be-e68240640d5a",
   "metadata": {},
   "outputs": [
    {
     "data": {
      "text/html": [
       "\n",
       "        <iframe\n",
       "            width=\"100%\"\n",
       "            height=\"500px\"\n",
       "            src=\"CheckAtlas_example_3/CheckAtlas_example_3.html\"\n",
       "            frameborder=\"0\"\n",
       "            allowfullscreen\n",
       "            \n",
       "        ></iframe>\n",
       "        "
      ],
      "text/plain": [
       "<IPython.lib.display.IFrame at 0x10b466670>"
      ]
     },
     "execution_count": 15,
     "metadata": {},
     "output_type": "execute_result"
    }
   ],
   "source": [
    "from IPython.display import IFrame\n",
    "\n",
    "IFrame(\n",
    "    src=\"CheckAtlas_example_3/CheckAtlas_example_3.html\",\n",
    "    width=\"100%\",\n",
    "    height=\"500px\",\n",
    ")"
   ]
  }
 ],
 "metadata": {
  "kernelspec": {
   "display_name": "Python 3 (ipykernel)",
   "language": "python",
   "name": "python3"
  },
  "language_info": {
   "codemirror_mode": {
    "name": "ipython",
    "version": 3
   },
   "file_extension": ".py",
   "mimetype": "text/x-python",
   "name": "python",
   "nbconvert_exporter": "python",
   "pygments_lexer": "ipython3",
   "version": "3.10.9"
  }
 },
 "nbformat": 4,
 "nbformat_minor": 5
}
